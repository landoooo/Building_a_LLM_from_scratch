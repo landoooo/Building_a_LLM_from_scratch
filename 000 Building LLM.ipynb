{
 "cells": [
  {
   "cell_type": "code",
   "execution_count": 1,
   "id": "d8ce88a8-2fb4-4986-b10b-3ba11c1b7d02",
   "metadata": {
    "execution": {
     "iopub.execute_input": "2024-11-17T14:50:29.044852Z",
     "iopub.status.busy": "2024-11-17T14:50:29.043358Z",
     "iopub.status.idle": "2024-11-17T14:50:29.328046Z",
     "shell.execute_reply": "2024-11-17T14:50:29.322174Z",
     "shell.execute_reply.started": "2024-11-17T14:50:29.044767Z"
    }
   },
   "outputs": [
    {
     "name": "stdout",
     "output_type": "stream",
     "text": [
      "total number of characters: 20479\n",
      "I HAD always thought Jack Gisburn rather a cheap genius--though a good fellow enough--so it was no \n"
     ]
    }
   ],
   "source": [
    "import urllib.request \n",
    "\n",
    "url=\"https://raw.githubusercontent.com/rasbt/LLMs-from-scratch/main/ch02/01_main-chapter-code/the-verdict.txt\"\n",
    "\n",
    "file_path='the-verdict.txt'\n",
    "urllib.request.urlretrieve(url, file_path)\n",
    "\n",
    "with open('the-verdict.txt', 'r', encoding='utf-8') as f: \n",
    "    raw_text = f.read() \n",
    "\n",
    "print('total number of characters:', len (raw_text))\n",
    "print(raw_text[:99])\n"
   ]
  },
  {
   "cell_type": "code",
   "execution_count": 2,
   "id": "d798c42b-44a0-487e-9775-e320de1a4585",
   "metadata": {
    "execution": {
     "iopub.execute_input": "2024-11-17T15:05:45.038230Z",
     "iopub.status.busy": "2024-11-17T15:05:45.034098Z",
     "iopub.status.idle": "2024-11-17T15:05:45.058678Z",
     "shell.execute_reply": "2024-11-17T15:05:45.057991Z",
     "shell.execute_reply.started": "2024-11-17T15:05:45.038109Z"
    }
   },
   "outputs": [
    {
     "name": "stdout",
     "output_type": "stream",
     "text": [
      "['hello,', ' ', 'world.', ' ', 'this', ' ', 'is', ' ', 'a', ' ', 'test.']\n"
     ]
    }
   ],
   "source": [
    "import re \n",
    "text = 'hello, world. this is a test.'\n",
    "result = re.split(r'(\\s)', text)\n",
    "print(result)"
   ]
  },
  {
   "cell_type": "code",
   "execution_count": 3,
   "id": "9bf0b3e5-9c7d-4829-b6c6-dfaf962aa667",
   "metadata": {
    "execution": {
     "iopub.execute_input": "2024-11-17T15:17:15.210679Z",
     "iopub.status.busy": "2024-11-17T15:17:15.209708Z",
     "iopub.status.idle": "2024-11-17T15:17:15.226854Z",
     "shell.execute_reply": "2024-11-17T15:17:15.225562Z",
     "shell.execute_reply.started": "2024-11-17T15:17:15.210622Z"
    }
   },
   "outputs": [
    {
     "name": "stdout",
     "output_type": "stream",
     "text": [
      "['hello', ',', '', ' ', 'world', '.', '', ' ', 'this', ' ', 'is', ' ', 'a', ' ', 'test', '.', '']\n"
     ]
    }
   ],
   "source": [
    "result = re.split(r'([,.]|\\s)', text)\n",
    "print(result)"
   ]
  },
  {
   "cell_type": "code",
   "execution_count": 4,
   "id": "1858efb4-6f0c-4727-9f00-ccb28d17b3cb",
   "metadata": {
    "execution": {
     "iopub.execute_input": "2024-11-17T15:17:40.931839Z",
     "iopub.status.busy": "2024-11-17T15:17:40.931232Z",
     "iopub.status.idle": "2024-11-17T15:17:40.939210Z",
     "shell.execute_reply": "2024-11-17T15:17:40.938276Z",
     "shell.execute_reply.started": "2024-11-17T15:17:40.931800Z"
    }
   },
   "outputs": [
    {
     "name": "stdout",
     "output_type": "stream",
     "text": [
      "['hello', ',', 'world', '.', 'this', 'is', 'a', 'test', '.']\n"
     ]
    }
   ],
   "source": [
    "result = [item for item in result if item.strip()]\n",
    "print(result)"
   ]
  },
  {
   "cell_type": "code",
   "execution_count": 5,
   "id": "5955c5c6-24ef-4e45-9248-83805eb3f363",
   "metadata": {
    "execution": {
     "iopub.execute_input": "2024-11-17T15:17:59.219283Z",
     "iopub.status.busy": "2024-11-17T15:17:59.218467Z",
     "iopub.status.idle": "2024-11-17T15:17:59.230749Z",
     "shell.execute_reply": "2024-11-17T15:17:59.229612Z",
     "shell.execute_reply.started": "2024-11-17T15:17:59.219240Z"
    }
   },
   "outputs": [
    {
     "name": "stdout",
     "output_type": "stream",
     "text": [
      "['Hello', ',', 'world', '.', 'Is', 'this', '--', 'a', 'test', '?']\n"
     ]
    }
   ],
   "source": [
    "text = \"Hello, world. Is this-- a test?\"\n",
    "result = re.split(r'([,.:;?_!\"()\\']|--|\\s)', text)\n",
    "result = [item.strip() for item in result if item.strip()]\n",
    "print(result)"
   ]
  },
  {
   "cell_type": "code",
   "execution_count": 13,
   "id": "3fd70ed2-438b-48b6-8f06-92f8229edd52",
   "metadata": {
    "execution": {
     "iopub.execute_input": "2024-11-17T15:35:50.956453Z",
     "iopub.status.busy": "2024-11-17T15:35:50.955117Z",
     "iopub.status.idle": "2024-11-17T15:35:50.973834Z",
     "shell.execute_reply": "2024-11-17T15:35:50.972713Z",
     "shell.execute_reply.started": "2024-11-17T15:35:50.956371Z"
    }
   },
   "outputs": [
    {
     "name": "stdout",
     "output_type": "stream",
     "text": [
      "['I', ' ', 'HAD', ' ', 'always', ' ', 'thought', ' ', 'Jack', ' ', 'Gisburn', ' ', 'rather', ' ', 'a', ' ', 'cheap', ' ', 'genius', '--', 'though', ' ', 'a', ' ', 'good', ' ', 'fellow', ' ', 'enough', '--']\n"
     ]
    }
   ],
   "source": [
    "result = re.split(r'([,.:;?_!\"()\\']|--|\\s)', raw_text)\n",
    "tokens = [item.strip() for item in result if item.strip()]\n",
    "print(result[:30])"
   ]
  },
  {
   "cell_type": "code",
   "execution_count": 14,
   "id": "98a875f6-1e75-4468-a991-38ec586cc2ad",
   "metadata": {
    "execution": {
     "iopub.execute_input": "2024-11-17T15:35:52.137996Z",
     "iopub.status.busy": "2024-11-17T15:35:52.136758Z",
     "iopub.status.idle": "2024-11-17T15:35:52.154808Z",
     "shell.execute_reply": "2024-11-17T15:35:52.153591Z",
     "shell.execute_reply.started": "2024-11-17T15:35:52.137926Z"
    }
   },
   "outputs": [
    {
     "name": "stdout",
     "output_type": "stream",
     "text": [
      "1130\n",
      "('!', 0)\n",
      "('\"', 1)\n",
      "(\"'\", 2)\n",
      "('(', 3)\n",
      "(')', 4)\n",
      "(',', 5)\n",
      "('--', 6)\n",
      "('.', 7)\n",
      "(':', 8)\n",
      "(';', 9)\n",
      "('?', 10)\n",
      "('A', 11)\n",
      "('Ah', 12)\n",
      "('Among', 13)\n",
      "('And', 14)\n",
      "('Are', 15)\n",
      "('Arrt', 16)\n",
      "('As', 17)\n",
      "('At', 18)\n",
      "('Be', 19)\n",
      "('Begin', 20)\n",
      "('Burlington', 21)\n",
      "('But', 22)\n",
      "('By', 23)\n",
      "('Carlo', 24)\n",
      "('Chicago', 25)\n",
      "('Claude', 26)\n",
      "('Come', 27)\n",
      "('Croft', 28)\n",
      "('Destroyed', 29)\n",
      "('Devonshire', 30)\n",
      "('Don', 31)\n",
      "('Dubarry', 32)\n",
      "('Emperors', 33)\n",
      "('Florence', 34)\n",
      "('For', 35)\n",
      "('Gallery', 36)\n",
      "('Gideon', 37)\n",
      "('Gisburn', 38)\n",
      "('Gisburns', 39)\n",
      "('Grafton', 40)\n",
      "('Greek', 41)\n",
      "('Grindle', 42)\n",
      "('Grindles', 43)\n",
      "('HAD', 44)\n",
      "('Had', 45)\n",
      "('Hang', 46)\n",
      "('Has', 47)\n",
      "('He', 48)\n",
      "('Her', 49)\n",
      "('Hermia', 50)\n"
     ]
    }
   ],
   "source": [
    "all_words = sorted(set(tokens))\n",
    "vocab_size = len(all_words)\n",
    "print(vocab_size)\n",
    "\n",
    "vocab = {token:integer for integer,token in enumerate(all_words)}\n",
    "\n",
    "for i, item in enumerate(vocab.items()): \n",
    "    print(item)\n",
    "    if i>=50: \n",
    "        break"
   ]
  },
  {
   "cell_type": "code",
   "execution_count": 15,
   "id": "1bff581b-03fa-4ae9-b024-5d3387880b2d",
   "metadata": {
    "execution": {
     "iopub.execute_input": "2024-11-17T15:35:53.609108Z",
     "iopub.status.busy": "2024-11-17T15:35:53.608402Z",
     "iopub.status.idle": "2024-11-17T15:35:53.625359Z",
     "shell.execute_reply": "2024-11-17T15:35:53.624095Z",
     "shell.execute_reply.started": "2024-11-17T15:35:53.609072Z"
    }
   },
   "outputs": [],
   "source": [
    "class SimpleTokenizerV1: \n",
    "    def __init__(self, vocab): \n",
    "        self.str_to_int = vocab \n",
    "        self.int_to_str = {i:s for s,i in vocab.items()}\n",
    "\n",
    "    def encode(self, text): \n",
    "        preprocessed = re.split(r'([,.?_!\"()\\']|--|\\s)', text)\n",
    "        preprocessed = [item.strip() for item in preprocessed if item.strip()]\n",
    "        ids = [self.str_to_int[s] for s in preprocessed]\n",
    "        return ids \n",
    "\n",
    "    def decode(self, ids):\n",
    "        text = \" \".join([self.int_to_str[i] for i in ids])\n",
    "        text = re.sub(r'\\s+([,.?!\"()\\'])', r'\\1', text) \n",
    "        return text"
   ]
  },
  {
   "cell_type": "code",
   "execution_count": 16,
   "id": "a4b87bf7-1061-4e71-89a2-9a2f0720e00f",
   "metadata": {
    "execution": {
     "iopub.execute_input": "2024-11-17T15:35:54.385003Z",
     "iopub.status.busy": "2024-11-17T15:35:54.384109Z",
     "iopub.status.idle": "2024-11-17T15:35:54.396360Z",
     "shell.execute_reply": "2024-11-17T15:35:54.395314Z",
     "shell.execute_reply.started": "2024-11-17T15:35:54.384963Z"
    }
   },
   "outputs": [
    {
     "name": "stdout",
     "output_type": "stream",
     "text": [
      "[56, 2, 850, 988, 602, 533, 746, 5, 1126, 596, 5, 1, 67, 7, 38, 851, 1108, 754, 793, 7]\n"
     ]
    }
   ],
   "source": [
    "tokenizer =  SimpleTokenizerV1(vocab)\n",
    "\n",
    "text = '''It's the last he painted, you know,\"\n",
    "        Mrs. Gisburn said with pardonable pride.'''\n",
    "\n",
    "ids = tokenizer.encode(text)\n",
    "print(ids)"
   ]
  },
  {
   "cell_type": "code",
   "execution_count": 17,
   "id": "80a756d7-fcea-41c1-83ed-c9aa01a472be",
   "metadata": {
    "execution": {
     "iopub.execute_input": "2024-11-17T15:36:10.370223Z",
     "iopub.status.busy": "2024-11-17T15:36:10.368955Z",
     "iopub.status.idle": "2024-11-17T15:36:10.383940Z",
     "shell.execute_reply": "2024-11-17T15:36:10.382513Z",
     "shell.execute_reply.started": "2024-11-17T15:36:10.370152Z"
    }
   },
   "outputs": [
    {
     "name": "stdout",
     "output_type": "stream",
     "text": [
      "It' s the last he painted, you know,\" Mrs. Gisburn said with pardonable pride.\n"
     ]
    }
   ],
   "source": [
    "print(tokenizer.decode(ids))"
   ]
  },
  {
   "cell_type": "code",
   "execution_count": 18,
   "id": "539a6b56-b9f0-4a83-a2ac-da521d2630cc",
   "metadata": {
    "execution": {
     "iopub.execute_input": "2024-11-17T16:59:28.067452Z",
     "iopub.status.busy": "2024-11-17T16:59:28.066299Z",
     "iopub.status.idle": "2024-11-17T16:59:28.115198Z",
     "shell.execute_reply": "2024-11-17T16:59:28.114246Z",
     "shell.execute_reply.started": "2024-11-17T16:59:28.067384Z"
    }
   },
   "outputs": [
    {
     "ename": "KeyError",
     "evalue": "'Hello'",
     "output_type": "error",
     "traceback": [
      "\u001b[0;31m---------------------------------------------------------------------------\u001b[0m",
      "\u001b[0;31mKeyError\u001b[0m                                  Traceback (most recent call last)",
      "Cell \u001b[0;32mIn[18], line 1\u001b[0m\n\u001b[0;32m----> 1\u001b[0m \u001b[43mtokenizer\u001b[49m\u001b[38;5;241;43m.\u001b[39;49m\u001b[43mencode\u001b[49m\u001b[43m(\u001b[49m\u001b[38;5;124;43m'\u001b[39;49m\u001b[38;5;124;43mHello, how are you?\u001b[39;49m\u001b[38;5;124;43m'\u001b[39;49m\u001b[43m)\u001b[49m\n",
      "Cell \u001b[0;32mIn[15], line 9\u001b[0m, in \u001b[0;36mSimpleTokenizerV1.encode\u001b[0;34m(self, text)\u001b[0m\n\u001b[1;32m      7\u001b[0m preprocessed \u001b[38;5;241m=\u001b[39m re\u001b[38;5;241m.\u001b[39msplit(\u001b[38;5;124mr\u001b[39m\u001b[38;5;124m'\u001b[39m\u001b[38;5;124m([,.?_!\u001b[39m\u001b[38;5;124m\"\u001b[39m\u001b[38;5;124m()\u001b[39m\u001b[38;5;130;01m\\'\u001b[39;00m\u001b[38;5;124m]|--|\u001b[39m\u001b[38;5;124m\\\u001b[39m\u001b[38;5;124ms)\u001b[39m\u001b[38;5;124m'\u001b[39m, text)\n\u001b[1;32m      8\u001b[0m preprocessed \u001b[38;5;241m=\u001b[39m [item\u001b[38;5;241m.\u001b[39mstrip() \u001b[38;5;28;01mfor\u001b[39;00m item \u001b[38;5;129;01min\u001b[39;00m preprocessed \u001b[38;5;28;01mif\u001b[39;00m item\u001b[38;5;241m.\u001b[39mstrip()]\n\u001b[0;32m----> 9\u001b[0m ids \u001b[38;5;241m=\u001b[39m \u001b[43m[\u001b[49m\u001b[38;5;28;43mself\u001b[39;49m\u001b[38;5;241;43m.\u001b[39;49m\u001b[43mstr_to_int\u001b[49m\u001b[43m[\u001b[49m\u001b[43ms\u001b[49m\u001b[43m]\u001b[49m\u001b[43m \u001b[49m\u001b[38;5;28;43;01mfor\u001b[39;49;00m\u001b[43m \u001b[49m\u001b[43ms\u001b[49m\u001b[43m \u001b[49m\u001b[38;5;129;43;01min\u001b[39;49;00m\u001b[43m \u001b[49m\u001b[43mpreprocessed\u001b[49m\u001b[43m]\u001b[49m\n\u001b[1;32m     10\u001b[0m \u001b[38;5;28;01mreturn\u001b[39;00m ids\n",
      "Cell \u001b[0;32mIn[15], line 9\u001b[0m, in \u001b[0;36m<listcomp>\u001b[0;34m(.0)\u001b[0m\n\u001b[1;32m      7\u001b[0m preprocessed \u001b[38;5;241m=\u001b[39m re\u001b[38;5;241m.\u001b[39msplit(\u001b[38;5;124mr\u001b[39m\u001b[38;5;124m'\u001b[39m\u001b[38;5;124m([,.?_!\u001b[39m\u001b[38;5;124m\"\u001b[39m\u001b[38;5;124m()\u001b[39m\u001b[38;5;130;01m\\'\u001b[39;00m\u001b[38;5;124m]|--|\u001b[39m\u001b[38;5;124m\\\u001b[39m\u001b[38;5;124ms)\u001b[39m\u001b[38;5;124m'\u001b[39m, text)\n\u001b[1;32m      8\u001b[0m preprocessed \u001b[38;5;241m=\u001b[39m [item\u001b[38;5;241m.\u001b[39mstrip() \u001b[38;5;28;01mfor\u001b[39;00m item \u001b[38;5;129;01min\u001b[39;00m preprocessed \u001b[38;5;28;01mif\u001b[39;00m item\u001b[38;5;241m.\u001b[39mstrip()]\n\u001b[0;32m----> 9\u001b[0m ids \u001b[38;5;241m=\u001b[39m [\u001b[38;5;28;43mself\u001b[39;49m\u001b[38;5;241;43m.\u001b[39;49m\u001b[43mstr_to_int\u001b[49m\u001b[43m[\u001b[49m\u001b[43ms\u001b[49m\u001b[43m]\u001b[49m \u001b[38;5;28;01mfor\u001b[39;00m s \u001b[38;5;129;01min\u001b[39;00m preprocessed]\n\u001b[1;32m     10\u001b[0m \u001b[38;5;28;01mreturn\u001b[39;00m ids\n",
      "\u001b[0;31mKeyError\u001b[0m: 'Hello'"
     ]
    }
   ],
   "source": [
    "tokenizer.encode('Hello, how are you?')"
   ]
  },
  {
   "cell_type": "code",
   "execution_count": 20,
   "id": "b9bfbdc6-a155-4e72-8db7-0a7ba0112434",
   "metadata": {
    "execution": {
     "iopub.execute_input": "2024-11-17T17:00:32.153047Z",
     "iopub.status.busy": "2024-11-17T17:00:32.152285Z",
     "iopub.status.idle": "2024-11-17T17:00:32.166076Z",
     "shell.execute_reply": "2024-11-17T17:00:32.164639Z",
     "shell.execute_reply.started": "2024-11-17T17:00:32.153004Z"
    }
   },
   "outputs": [
    {
     "name": "stdout",
     "output_type": "stream",
     "text": [
      "1132\n"
     ]
    }
   ],
   "source": [
    "all_tokens = sorted(list(set(all_words)))\n",
    "all_tokens.extend([\"<|endoftext|>\", \"<|unk|>\"])\n",
    "vocab = {token:integer for integer,token in enumerate(all_tokens)}\n",
    "print(len(vocab.items()))"
   ]
  },
  {
   "cell_type": "code",
   "execution_count": 22,
   "id": "0addfef0-4588-40b5-836e-b2852a4c7773",
   "metadata": {
    "execution": {
     "iopub.execute_input": "2024-11-17T17:00:49.458249Z",
     "iopub.status.busy": "2024-11-17T17:00:49.456882Z",
     "iopub.status.idle": "2024-11-17T17:00:49.484104Z",
     "shell.execute_reply": "2024-11-17T17:00:49.483407Z",
     "shell.execute_reply.started": "2024-11-17T17:00:49.458172Z"
    }
   },
   "outputs": [
    {
     "name": "stdout",
     "output_type": "stream",
     "text": [
      "('younger', 1127)\n",
      "('your', 1128)\n",
      "('yourself', 1129)\n",
      "('<|endoftext|>', 1130)\n",
      "('<|unk|>', 1131)\n"
     ]
    }
   ],
   "source": [
    "for i, item in enumerate(list(vocab.items())[-5:]):\n",
    "    print(item)"
   ]
  },
  {
   "cell_type": "code",
   "execution_count": 27,
   "id": "e61aa203-b22e-43a2-a7dc-e031097a8462",
   "metadata": {
    "execution": {
     "iopub.execute_input": "2024-11-17T17:03:43.907858Z",
     "iopub.status.busy": "2024-11-17T17:03:43.907102Z",
     "iopub.status.idle": "2024-11-17T17:03:43.920557Z",
     "shell.execute_reply": "2024-11-17T17:03:43.919414Z",
     "shell.execute_reply.started": "2024-11-17T17:03:43.907824Z"
    }
   },
   "outputs": [],
   "source": [
    "class SimpleTokenizerV2: \n",
    "    def __init__(self, vocab): \n",
    "        self.str_to_int = vocab \n",
    "        self.int_to_str = {i:s for s,i in vocab.items()}\n",
    "\n",
    "    def encode(self, text): \n",
    "        preprocessed = re.split(r'([,.?_!\"()\\']|--|\\s)', text)\n",
    "        preprocessed = [item.strip() for item in preprocessed if item.strip()]\n",
    "        preprocessed = [item if item in self.str_to_int\n",
    "                        else \"<|unk|>\" for item in preprocessed]\n",
    "        ids = [self.str_to_int[s] for s in preprocessed]\n",
    "        return ids \n",
    "\n",
    "    def decode(self, ids):\n",
    "        text = \" \".join([self.int_to_str[i] for i in ids])\n",
    "        text = re.sub(r'\\s+([,.?!\"()\\'])', r'\\1', text) \n",
    "        return text"
   ]
  },
  {
   "cell_type": "code",
   "execution_count": 28,
   "id": "b84146ad-2f36-466f-a699-cae6dec9a96d",
   "metadata": {
    "execution": {
     "iopub.execute_input": "2024-11-17T17:03:44.410978Z",
     "iopub.status.busy": "2024-11-17T17:03:44.410118Z",
     "iopub.status.idle": "2024-11-17T17:03:44.422189Z",
     "shell.execute_reply": "2024-11-17T17:03:44.420740Z",
     "shell.execute_reply.started": "2024-11-17T17:03:44.410938Z"
    }
   },
   "outputs": [
    {
     "name": "stdout",
     "output_type": "stream",
     "text": [
      "Hello, do you like tea? <|endoftext|> In the sunlit terraces of the palace.\n"
     ]
    }
   ],
   "source": [
    "text1 = \"Hello, do you like tea?\"\n",
    "text2 = \"In the sunlit terraces of the palace.\"\n",
    "text = \" <|endoftext|> \".join((text1, text2))\n",
    "print(text)"
   ]
  },
  {
   "cell_type": "code",
   "execution_count": 29,
   "id": "88132f10-7712-49c9-8cbc-da80e30dc5f9",
   "metadata": {
    "execution": {
     "iopub.execute_input": "2024-11-17T17:03:45.195654Z",
     "iopub.status.busy": "2024-11-17T17:03:45.194845Z",
     "iopub.status.idle": "2024-11-17T17:03:45.208058Z",
     "shell.execute_reply": "2024-11-17T17:03:45.206616Z",
     "shell.execute_reply.started": "2024-11-17T17:03:45.195614Z"
    }
   },
   "outputs": [
    {
     "name": "stdout",
     "output_type": "stream",
     "text": [
      "[1131, 5, 355, 1126, 628, 975, 10, 1130, 55, 988, 956, 984, 722, 988, 1131, 7]\n"
     ]
    }
   ],
   "source": [
    "tokenizer = SimpleTokenizerV2(vocab)\n",
    "print(tokenizer.encode(text))"
   ]
  },
  {
   "cell_type": "code",
   "execution_count": 30,
   "id": "10548c30-cec7-43b5-b504-24d7b7a5f03e",
   "metadata": {
    "execution": {
     "iopub.execute_input": "2024-11-17T17:03:46.123718Z",
     "iopub.status.busy": "2024-11-17T17:03:46.123015Z",
     "iopub.status.idle": "2024-11-17T17:03:46.134053Z",
     "shell.execute_reply": "2024-11-17T17:03:46.132470Z",
     "shell.execute_reply.started": "2024-11-17T17:03:46.123682Z"
    }
   },
   "outputs": [
    {
     "name": "stdout",
     "output_type": "stream",
     "text": [
      "<|unk|>, do you like tea? <|endoftext|> In the sunlit terraces of the <|unk|>.\n"
     ]
    }
   ],
   "source": [
    "print(tokenizer.decode(tokenizer.encode(text)))"
   ]
  },
  {
   "cell_type": "markdown",
   "id": "0be85568-9e7a-480c-a129-9ead50a8c13b",
   "metadata": {
    "execution": {
     "iopub.execute_input": "2024-11-18T10:59:49.084904Z",
     "iopub.status.busy": "2024-11-18T10:59:49.083518Z",
     "iopub.status.idle": "2024-11-18T10:59:49.096503Z",
     "shell.execute_reply": "2024-11-18T10:59:49.094669Z",
     "shell.execute_reply.started": "2024-11-18T10:59:49.084822Z"
    }
   },
   "source": [
    "## 2.5 Byte pair encoding"
   ]
  },
  {
   "cell_type": "code",
   "execution_count": 33,
   "id": "0bbb8f75-9daa-45dc-abf8-5950af812258",
   "metadata": {
    "execution": {
     "iopub.execute_input": "2024-11-18T11:00:03.647626Z",
     "iopub.status.busy": "2024-11-18T11:00:03.647017Z",
     "iopub.status.idle": "2024-11-18T11:01:00.601934Z",
     "shell.execute_reply": "2024-11-18T11:01:00.600940Z",
     "shell.execute_reply.started": "2024-11-18T11:00:03.647594Z"
    }
   },
   "outputs": [
    {
     "name": "stdout",
     "output_type": "stream",
     "text": [
      "Channels:\n",
      " - defaults\n",
      " - conda-forge\n",
      " - pytorch\n",
      "Platform: osx-64\n",
      "Collecting package metadata (repodata.json): done\n",
      "Solving environment: done\n",
      "\n",
      "# All requested packages already installed.\n",
      "\n",
      "\n",
      "Note: you may need to restart the kernel to use updated packages.\n"
     ]
    }
   ],
   "source": [
    "%conda install tiktoken"
   ]
  },
  {
   "cell_type": "code",
   "execution_count": 34,
   "id": "55bf2338-11f6-4f43-9909-a18d683c2361",
   "metadata": {
    "execution": {
     "iopub.execute_input": "2024-11-18T11:01:15.707798Z",
     "iopub.status.busy": "2024-11-18T11:01:15.706572Z",
     "iopub.status.idle": "2024-11-18T11:01:16.298968Z",
     "shell.execute_reply": "2024-11-18T11:01:16.298623Z",
     "shell.execute_reply.started": "2024-11-18T11:01:15.707737Z"
    }
   },
   "outputs": [
    {
     "name": "stdout",
     "output_type": "stream",
     "text": [
      "tiktoken version: 0.8.0\n"
     ]
    }
   ],
   "source": [
    "from importlib.metadata import version\n",
    "import tiktoken\n",
    "print(\"tiktoken version:\", version(\"tiktoken\"))"
   ]
  },
  {
   "cell_type": "code",
   "execution_count": 35,
   "id": "6a7a1118-cff0-4a85-9284-4c64615f1e76",
   "metadata": {
    "execution": {
     "iopub.execute_input": "2024-11-18T11:01:25.925099Z",
     "iopub.status.busy": "2024-11-18T11:01:25.923838Z",
     "iopub.status.idle": "2024-11-18T11:01:28.751058Z",
     "shell.execute_reply": "2024-11-18T11:01:28.750631Z",
     "shell.execute_reply.started": "2024-11-18T11:01:25.925028Z"
    }
   },
   "outputs": [],
   "source": [
    "tokenizer = tiktoken.get_encoding(\"gpt2\")"
   ]
  },
  {
   "cell_type": "code",
   "execution_count": 36,
   "id": "113cf40c-6730-4366-9f13-1492cd9761dc",
   "metadata": {
    "execution": {
     "iopub.execute_input": "2024-11-18T11:02:26.557788Z",
     "iopub.status.busy": "2024-11-18T11:02:26.556407Z",
     "iopub.status.idle": "2024-11-18T11:02:26.569482Z",
     "shell.execute_reply": "2024-11-18T11:02:26.568276Z",
     "shell.execute_reply.started": "2024-11-18T11:02:26.557721Z"
    }
   },
   "outputs": [
    {
     "name": "stdout",
     "output_type": "stream",
     "text": [
      "[15496, 11, 466, 345, 588, 8887, 30, 220, 50256, 554, 262, 4252, 18250, 8812, 2114, 1659, 617, 34680, 27271, 13]\n"
     ]
    }
   ],
   "source": [
    "text = (\n",
    "\"Hello, do you like tea? <|endoftext|> In the sunlit terraces\"\n",
    "\"of someunknownPlace.\"\n",
    ")\n",
    "integers = tokenizer.encode(text, allowed_special={\"<|endoftext|>\"})\n",
    "print(integers)"
   ]
  },
  {
   "cell_type": "code",
   "execution_count": 37,
   "id": "429d46b1-7ce5-4d8e-bb18-76fd58e431cb",
   "metadata": {
    "execution": {
     "iopub.execute_input": "2024-11-18T11:03:13.528932Z",
     "iopub.status.busy": "2024-11-18T11:03:13.528006Z",
     "iopub.status.idle": "2024-11-18T11:03:13.539186Z",
     "shell.execute_reply": "2024-11-18T11:03:13.538089Z",
     "shell.execute_reply.started": "2024-11-18T11:03:13.528882Z"
    }
   },
   "outputs": [
    {
     "data": {
      "text/plain": [
       "'<|endoftext|>'"
      ]
     },
     "execution_count": 37,
     "metadata": {},
     "output_type": "execute_result"
    }
   ],
   "source": [
    "tokenizer.decode([50256])"
   ]
  },
  {
   "cell_type": "code",
   "execution_count": 39,
   "id": "da19c377-07fd-4e94-a03c-130c124440e1",
   "metadata": {
    "execution": {
     "iopub.execute_input": "2024-11-18T11:03:39.557368Z",
     "iopub.status.busy": "2024-11-18T11:03:39.556372Z",
     "iopub.status.idle": "2024-11-18T11:03:39.569271Z",
     "shell.execute_reply": "2024-11-18T11:03:39.568316Z",
     "shell.execute_reply.started": "2024-11-18T11:03:39.557308Z"
    }
   },
   "outputs": [
    {
     "data": {
      "text/plain": [
       "' someunknownPlace.'"
      ]
     },
     "execution_count": 39,
     "metadata": {},
     "output_type": "execute_result"
    }
   ],
   "source": [
    "tokenizer.decode([617,34680, 27271, 13])"
   ]
  },
  {
   "cell_type": "code",
   "execution_count": 40,
   "id": "428afb1a-9dfa-4cfc-9ca9-f9139efa1ceb",
   "metadata": {
    "execution": {
     "iopub.execute_input": "2024-11-18T11:04:15.300910Z",
     "iopub.status.busy": "2024-11-18T11:04:15.300226Z",
     "iopub.status.idle": "2024-11-18T11:04:15.314647Z",
     "shell.execute_reply": "2024-11-18T11:04:15.312277Z",
     "shell.execute_reply.started": "2024-11-18T11:04:15.300871Z"
    }
   },
   "outputs": [
    {
     "data": {
      "text/plain": [
       "[5372, 8474]"
      ]
     },
     "execution_count": 40,
     "metadata": {},
     "output_type": "execute_result"
    }
   ],
   "source": [
    "tokenizer.encode('place Place', allowed_special={\"<|endoftext|>\"})"
   ]
  },
  {
   "cell_type": "code",
   "execution_count": 41,
   "id": "b10efa33-100f-4764-bcb6-14b0e3fd3aa7",
   "metadata": {
    "execution": {
     "iopub.execute_input": "2024-11-18T11:05:40.565083Z",
     "iopub.status.busy": "2024-11-18T11:05:40.563555Z",
     "iopub.status.idle": "2024-11-18T11:05:40.582436Z",
     "shell.execute_reply": "2024-11-18T11:05:40.581385Z",
     "shell.execute_reply.started": "2024-11-18T11:05:40.565008Z"
    }
   },
   "outputs": [
    {
     "data": {
      "text/plain": [
       "[34975, 403, 2044, 308, 398, 268, 707, 263]"
      ]
     },
     "execution_count": 41,
     "metadata": {},
     "output_type": "execute_result"
    }
   ],
   "source": [
    "tokenizer.encode('spruncher gromenawer', allowed_special={\"<|endoftext|>\"})"
   ]
  },
  {
   "cell_type": "markdown",
   "id": "41419938-db20-427c-a2a0-58433965be5c",
   "metadata": {},
   "source": [
    "## 2.6 Data sampling with a sliding window"
   ]
  },
  {
   "cell_type": "code",
   "execution_count": 43,
   "id": "564c9cbf-d4e4-4175-87b0-545b3bfd8029",
   "metadata": {
    "execution": {
     "iopub.execute_input": "2024-11-18T12:47:47.160823Z",
     "iopub.status.busy": "2024-11-18T12:47:47.160045Z",
     "iopub.status.idle": "2024-11-18T12:47:47.179325Z",
     "shell.execute_reply": "2024-11-18T12:47:47.178829Z",
     "shell.execute_reply.started": "2024-11-18T12:47:47.160787Z"
    }
   },
   "outputs": [
    {
     "name": "stdout",
     "output_type": "stream",
     "text": [
      "5145\n",
      "[40, 367, 2885, 1464, 1807, 3619, 402, 271, 10899, 2138, 257, 7026, 15632, 438, 2016, 257, 922, 5891, 1576, 438, 568, 340, 373, 645, 1049, 5975, 284, 502, 284, 3285, 326, 11, 287, 262, 6001, 286, 465, 13476, 11, 339]\n"
     ]
    }
   ],
   "source": [
    "with open(\"the-verdict.txt\", \"r\", encoding=\"utf-8\") as f:\n",
    "    raw_text = f.read()\n",
    "\n",
    "enc_text = tokenizer.encode(raw_text)\n",
    "print(len(enc_text))\n",
    "print(enc_text[:40])"
   ]
  },
  {
   "cell_type": "code",
   "execution_count": 44,
   "id": "0ee7043c-71b4-492f-bea3-ff3add2701ef",
   "metadata": {
    "execution": {
     "iopub.execute_input": "2024-11-18T12:48:49.246729Z",
     "iopub.status.busy": "2024-11-18T12:48:49.245642Z",
     "iopub.status.idle": "2024-11-18T12:48:49.257554Z",
     "shell.execute_reply": "2024-11-18T12:48:49.255897Z",
     "shell.execute_reply.started": "2024-11-18T12:48:49.246683Z"
    }
   },
   "outputs": [],
   "source": [
    "# Lets remove the first 50 tokens for demonstration purposes\n",
    "enc_sample = enc_text[50:]"
   ]
  },
  {
   "cell_type": "code",
   "execution_count": 46,
   "id": "d1ef2faa-dcf9-4120-a87a-24d8a80612e9",
   "metadata": {
    "execution": {
     "iopub.execute_input": "2024-11-18T12:49:29.189866Z",
     "iopub.status.busy": "2024-11-18T12:49:29.188928Z",
     "iopub.status.idle": "2024-11-18T12:49:29.202385Z",
     "shell.execute_reply": "2024-11-18T12:49:29.200863Z",
     "shell.execute_reply.started": "2024-11-18T12:49:29.189820Z"
    }
   },
   "outputs": [
    {
     "name": "stdout",
     "output_type": "stream",
     "text": [
      "x: [290, 4920, 2241, 287]\n",
      "y:      [4920, 2241, 287, 257]\n"
     ]
    }
   ],
   "source": [
    "context_size = 4\n",
    "x = enc_sample[:context_size]\n",
    "y = enc_sample[1:context_size+1]\n",
    "print(f\"x: {x}\")\n",
    "print(f\"y:      {y}\")"
   ]
  },
  {
   "cell_type": "code",
   "execution_count": 47,
   "id": "36955490-0a5b-42c9-8b69-4195f8235f7e",
   "metadata": {
    "execution": {
     "iopub.execute_input": "2024-11-18T12:50:08.784105Z",
     "iopub.status.busy": "2024-11-18T12:50:08.783278Z",
     "iopub.status.idle": "2024-11-18T12:50:08.799907Z",
     "shell.execute_reply": "2024-11-18T12:50:08.798610Z",
     "shell.execute_reply.started": "2024-11-18T12:50:08.784065Z"
    }
   },
   "outputs": [
    {
     "name": "stdout",
     "output_type": "stream",
     "text": [
      "[290] ----> 4920\n",
      "[290, 4920] ----> 2241\n",
      "[290, 4920, 2241] ----> 287\n",
      "[290, 4920, 2241, 287] ----> 257\n"
     ]
    }
   ],
   "source": [
    "for i in range(1, context_size+1):\n",
    "    context = enc_sample[:i]\n",
    "    desired = enc_sample[i]\n",
    "    print(context, \"---->\", desired)"
   ]
  },
  {
   "cell_type": "code",
   "execution_count": 49,
   "id": "2c17e7da-2a5a-46ef-8589-cafd7c9ec075",
   "metadata": {
    "execution": {
     "iopub.execute_input": "2024-11-18T12:51:32.544917Z",
     "iopub.status.busy": "2024-11-18T12:51:32.544130Z",
     "iopub.status.idle": "2024-11-18T12:51:32.558451Z",
     "shell.execute_reply": "2024-11-18T12:51:32.557420Z",
     "shell.execute_reply.started": "2024-11-18T12:51:32.544879Z"
    }
   },
   "outputs": [
    {
     "name": "stdout",
     "output_type": "stream",
     "text": [
      " and ---->  established\n",
      " and established ---->  himself\n",
      " and established himself ---->  in\n",
      " and established himself in ---->  a\n"
     ]
    }
   ],
   "source": [
    "for i in range(1, context_size+1):\n",
    "    context = enc_sample[:i]\n",
    "    desired = enc_sample[i]\n",
    "    print(tokenizer.decode(context), \"---->\", tokenizer.decode([desired]))"
   ]
  },
  {
   "cell_type": "code",
   "execution_count": 53,
   "id": "8472e964-fb58-42cf-ae7f-495d922f0748",
   "metadata": {
    "execution": {
     "iopub.execute_input": "2024-11-18T12:57:55.227023Z",
     "iopub.status.busy": "2024-11-18T12:57:55.226297Z",
     "iopub.status.idle": "2024-11-18T12:57:56.473257Z",
     "shell.execute_reply": "2024-11-18T12:57:56.472865Z",
     "shell.execute_reply.started": "2024-11-18T12:57:55.226983Z"
    }
   },
   "outputs": [],
   "source": [
    "import torch\n",
    "from torch.utils.data import Dataset, DataLoader\n",
    "\n",
    "class GPTDatasetV1(Dataset):\n",
    "    def __init__(self, txt, tokenizer, max_length, stride):\n",
    "        self.input_ids = []\n",
    "        self.target_ids = []\n",
    "        token_ids = tokenizer.encode(txt)\n",
    "        for i in range(0, len(token_ids) - max_length, stride):\n",
    "            input_chunk = token_ids[i:i + max_length]\n",
    "            target_chunk = token_ids[i + 1: i + max_length + 1]\n",
    "            self.input_ids.append(torch.tensor(input_chunk))\n",
    "            self.target_ids.append(torch.tensor(target_chunk))\n",
    "    \n",
    "    def __len__(self):\n",
    "        return len(self.input_ids)\n",
    "    \n",
    "    def __getitem__(self, idx):\n",
    "        return self.input_ids[idx], self.target_ids[idx]"
   ]
  },
  {
   "cell_type": "code",
   "execution_count": 54,
   "id": "3c551e8d-c0de-48bd-a64e-6cf81b417854",
   "metadata": {
    "execution": {
     "iopub.execute_input": "2024-11-18T12:57:56.474420Z",
     "iopub.status.busy": "2024-11-18T12:57:56.474203Z",
     "iopub.status.idle": "2024-11-18T12:57:56.477116Z",
     "shell.execute_reply": "2024-11-18T12:57:56.476774Z",
     "shell.execute_reply.started": "2024-11-18T12:57:56.474403Z"
    }
   },
   "outputs": [],
   "source": [
    "def create_dataloader_v1(txt, batch_size=4, max_length=256,\n",
    "                            stride=128, shuffle=True, drop_last=True,\n",
    "                            num_workers=0):\n",
    "    tokenizer = tiktoken.get_encoding(\"gpt2\")\n",
    "    dataset = GPTDatasetV1(txt, tokenizer, max_length, stride)\n",
    "    dataloader = DataLoader(\n",
    "        dataset,\n",
    "        batch_size=batch_size,\n",
    "        shuffle=shuffle,\n",
    "        drop_last=drop_last,\n",
    "        num_workers=num_workers\n",
    "    )\n",
    "    return dataloader"
   ]
  },
  {
   "cell_type": "code",
   "execution_count": 64,
   "id": "38f0c638-69b9-4328-8b30-1b68e4b95f46",
   "metadata": {
    "execution": {
     "iopub.execute_input": "2024-11-18T13:12:00.326341Z",
     "iopub.status.busy": "2024-11-18T13:12:00.325382Z",
     "iopub.status.idle": "2024-11-18T13:12:00.379024Z",
     "shell.execute_reply": "2024-11-18T13:12:00.378437Z",
     "shell.execute_reply.started": "2024-11-18T13:12:00.326297Z"
    }
   },
   "outputs": [],
   "source": [
    "dataloader = create_dataloader_v1(raw_text, batch_size=1, max_length=5,\n",
    "                            stride=2, shuffle=False, drop_last=True,\n",
    "                            num_workers=0)"
   ]
  },
  {
   "cell_type": "code",
   "execution_count": 65,
   "id": "2d2d0509-1577-4821-9c4c-a8a4e639c640",
   "metadata": {
    "execution": {
     "iopub.execute_input": "2024-11-18T13:12:00.459759Z",
     "iopub.status.busy": "2024-11-18T13:12:00.459196Z",
     "iopub.status.idle": "2024-11-18T13:12:00.469822Z",
     "shell.execute_reply": "2024-11-18T13:12:00.469309Z",
     "shell.execute_reply.started": "2024-11-18T13:12:00.459727Z"
    }
   },
   "outputs": [
    {
     "name": "stdout",
     "output_type": "stream",
     "text": [
      "[tensor([[  40,  367, 2885, 1464, 1807]]), tensor([[ 367, 2885, 1464, 1807, 3619]])]\n"
     ]
    }
   ],
   "source": [
    "data_iter = iter(dataloader)\n",
    "first_batch = next(data_iter)\n",
    "print(first_batch)"
   ]
  },
  {
   "cell_type": "markdown",
   "id": "61a450b5-6aca-4593-8d74-018a799b029a",
   "metadata": {},
   "source": [
    "## 2.7 Creating token embeddings"
   ]
  },
  {
   "cell_type": "code",
   "execution_count": 66,
   "id": "d2dc3f73-7cf3-48bc-997f-336da7aa2d74",
   "metadata": {
    "execution": {
     "iopub.execute_input": "2024-11-18T13:41:50.513827Z",
     "iopub.status.busy": "2024-11-18T13:41:50.512801Z",
     "iopub.status.idle": "2024-11-18T13:41:50.541117Z",
     "shell.execute_reply": "2024-11-18T13:41:50.540444Z",
     "shell.execute_reply.started": "2024-11-18T13:41:50.513785Z"
    }
   },
   "outputs": [
    {
     "name": "stdout",
     "output_type": "stream",
     "text": [
      "Parameter containing:\n",
      "tensor([[ 0.3374, -0.1778, -0.1690],\n",
      "        [ 0.9178,  1.5810,  1.3010],\n",
      "        [ 1.2753, -0.2010, -0.1606],\n",
      "        [-0.4015,  0.9666, -1.1481],\n",
      "        [-1.1589,  0.3255, -0.6315],\n",
      "        [-2.8400, -0.7849, -1.4096]], requires_grad=True)\n"
     ]
    }
   ],
   "source": [
    "vocab_size = 6\n",
    "output_dim = 3\n",
    "\n",
    "torch.manual_seed(123)\n",
    "embedding_layer = torch.nn.Embedding(vocab_size, output_dim)\n",
    "print(embedding_layer.weight)"
   ]
  },
  {
   "cell_type": "code",
   "execution_count": 67,
   "id": "64986d09-424a-4250-84ac-dae7fc2a3337",
   "metadata": {
    "execution": {
     "iopub.execute_input": "2024-11-18T13:42:25.272475Z",
     "iopub.status.busy": "2024-11-18T13:42:25.271640Z",
     "iopub.status.idle": "2024-11-18T13:42:25.292858Z",
     "shell.execute_reply": "2024-11-18T13:42:25.292160Z",
     "shell.execute_reply.started": "2024-11-18T13:42:25.272432Z"
    }
   },
   "outputs": [
    {
     "name": "stdout",
     "output_type": "stream",
     "text": [
      "tensor([[-0.4015,  0.9666, -1.1481]], grad_fn=<EmbeddingBackward0>)\n"
     ]
    }
   ],
   "source": [
    "print(embedding_layer(torch.tensor([3])))"
   ]
  },
  {
   "cell_type": "markdown",
   "id": "31d79747-a589-4614-bdd5-4afede642c54",
   "metadata": {},
   "source": [
    "the embedding layer is essentially a lookup operation that retrieves rows from the embedding layer’s weight matrix\n",
    "via a token ID."
   ]
  },
  {
   "cell_type": "markdown",
   "id": "5979bc0a-a6c8-4040-acce-eebbeb13a836",
   "metadata": {},
   "source": [
    "## 2.8 Encoding word positions"
   ]
  },
  {
   "cell_type": "code",
   "execution_count": 68,
   "id": "d46f897c-c118-4675-8256-531624698a89",
   "metadata": {
    "execution": {
     "iopub.execute_input": "2024-11-18T13:54:56.899621Z",
     "iopub.status.busy": "2024-11-18T13:54:56.899021Z",
     "iopub.status.idle": "2024-11-18T13:54:57.097039Z",
     "shell.execute_reply": "2024-11-18T13:54:57.096599Z",
     "shell.execute_reply.started": "2024-11-18T13:54:56.899587Z"
    }
   },
   "outputs": [],
   "source": [
    "vocab_size = 50257\n",
    "output_dim = 256\n",
    "token_embedding_layer = torch.nn.Embedding(vocab_size, output_dim)"
   ]
  },
  {
   "cell_type": "code",
   "execution_count": 70,
   "id": "08040e08-8507-442e-803c-d05c615400ff",
   "metadata": {
    "execution": {
     "iopub.execute_input": "2024-11-18T13:56:25.130651Z",
     "iopub.status.busy": "2024-11-18T13:56:25.129401Z",
     "iopub.status.idle": "2024-11-18T13:56:25.169005Z",
     "shell.execute_reply": "2024-11-18T13:56:25.168387Z",
     "shell.execute_reply.started": "2024-11-18T13:56:25.130481Z"
    }
   },
   "outputs": [
    {
     "name": "stdout",
     "output_type": "stream",
     "text": [
      "Token IDs:\n",
      " tensor([[   40,   367,  2885,  1464],\n",
      "        [ 1807,  3619,   402,   271],\n",
      "        [10899,  2138,   257,  7026],\n",
      "        [15632,   438,  2016,   257],\n",
      "        [  922,  5891,  1576,   438],\n",
      "        [  568,   340,   373,   645],\n",
      "        [ 1049,  5975,   284,   502],\n",
      "        [  284,  3285,   326,    11]])\n",
      "Token IDs targets:\n",
      " tensor([[  367,  2885,  1464,  1807],\n",
      "        [ 3619,   402,   271, 10899],\n",
      "        [ 2138,   257,  7026, 15632],\n",
      "        [  438,  2016,   257,   922],\n",
      "        [ 5891,  1576,   438,   568],\n",
      "        [  340,   373,   645,  1049],\n",
      "        [ 5975,   284,   502,   284],\n",
      "        [ 3285,   326,    11,   287]])\n",
      "\n",
      "Inputs shape:\n",
      " torch.Size([8, 4])\n"
     ]
    }
   ],
   "source": [
    "max_length = 4\n",
    "dataloader = create_dataloader_v1(\n",
    "    raw_text, batch_size=8, max_length=max_length,\n",
    "    stride=max_length, shuffle=False\n",
    ")\n",
    "data_iter = iter(dataloader)\n",
    "inputs, targets = next(data_iter)\n",
    "print(\"Token IDs:\\n\", inputs)\n",
    "print(\"Token IDs targets:\\n\", targets)\n",
    "print(\"\\nInputs shape:\\n\", inputs.shape)"
   ]
  },
  {
   "cell_type": "code",
   "execution_count": 71,
   "id": "d02df722-9092-47d6-94c2-7c4049c96c2c",
   "metadata": {
    "execution": {
     "iopub.execute_input": "2024-11-18T13:57:15.166658Z",
     "iopub.status.busy": "2024-11-18T13:57:15.165467Z",
     "iopub.status.idle": "2024-11-18T13:57:15.175314Z",
     "shell.execute_reply": "2024-11-18T13:57:15.174519Z",
     "shell.execute_reply.started": "2024-11-18T13:57:15.166599Z"
    }
   },
   "outputs": [
    {
     "name": "stdout",
     "output_type": "stream",
     "text": [
      "torch.Size([8, 4, 256])\n"
     ]
    }
   ],
   "source": [
    "token_embeddings = token_embedding_layer(inputs)\n",
    "print(token_embeddings.shape)"
   ]
  },
  {
   "cell_type": "code",
   "execution_count": 73,
   "id": "c89d4837-e6fe-4c02-8992-1e06c4c26b94",
   "metadata": {
    "execution": {
     "iopub.execute_input": "2024-11-18T14:21:06.574254Z",
     "iopub.status.busy": "2024-11-18T14:21:06.573516Z",
     "iopub.status.idle": "2024-11-18T14:21:06.588784Z",
     "shell.execute_reply": "2024-11-18T14:21:06.588117Z",
     "shell.execute_reply.started": "2024-11-18T14:21:06.574220Z"
    }
   },
   "outputs": [
    {
     "name": "stdout",
     "output_type": "stream",
     "text": [
      "torch.Size([4, 256])\n"
     ]
    }
   ],
   "source": [
    "context_length = max_length\n",
    "pos_embedding_layer = torch.nn.Embedding(context_length, output_dim)\n",
    "pos_embeddings = pos_embedding_layer(torch.arange(context_length))\n",
    "print(pos_embeddings.shape)"
   ]
  },
  {
   "cell_type": "code",
   "execution_count": 75,
   "id": "c46b8063-28c4-4c57-bce1-f72e4e4ffdda",
   "metadata": {
    "execution": {
     "iopub.execute_input": "2024-11-18T14:21:25.518760Z",
     "iopub.status.busy": "2024-11-18T14:21:25.518160Z",
     "iopub.status.idle": "2024-11-18T14:21:25.529700Z",
     "shell.execute_reply": "2024-11-18T14:21:25.528343Z",
     "shell.execute_reply.started": "2024-11-18T14:21:25.518727Z"
    }
   },
   "outputs": [
    {
     "name": "stdout",
     "output_type": "stream",
     "text": [
      "torch.Size([8, 4, 256])\n"
     ]
    }
   ],
   "source": [
    "input_embeddings = token_embeddings + pos_embeddings\n",
    "print(input_embeddings.shape)"
   ]
  },
  {
   "cell_type": "code",
   "execution_count": null,
   "id": "22758a44-650d-4093-b1ba-3f4d6a4be1d9",
   "metadata": {},
   "outputs": [],
   "source": []
  }
 ],
 "metadata": {
  "kernelspec": {
   "display_name": "Python 3 (ipykernel)",
   "language": "python",
   "name": "python3"
  },
  "language_info": {
   "codemirror_mode": {
    "name": "ipython",
    "version": 3
   },
   "file_extension": ".py",
   "mimetype": "text/x-python",
   "name": "python",
   "nbconvert_exporter": "python",
   "pygments_lexer": "ipython3",
   "version": "3.11.10"
  }
 },
 "nbformat": 4,
 "nbformat_minor": 5
}
